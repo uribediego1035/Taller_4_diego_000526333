{
  "cells": [
    {
      "cell_type": "markdown",
      "metadata": {
        "id": "view-in-github",
        "colab_type": "text"
      },
      "source": [
        "<a href=\"https://colab.research.google.com/github/uribediego1035/Taller_4_diego_000526333/blob/main/Taller_4_Ciclos.ipynb\" target=\"_parent\"><img src=\"https://colab.research.google.com/assets/colab-badge.svg\" alt=\"Open In Colab\"/></a>"
      ]
    },
    {
      "cell_type": "markdown",
      "id": "66beb5a1",
      "metadata": {
        "id": "66beb5a1"
      },
      "source": [
        "# Fundamentos de Programación para Ingeniería Mecánica\n",
        "## UPB Montería - 202310\n",
        "### Taller 4: Ciclos\n",
        "- Docente: Miguel Ortiz (miguel.ortizp@upb.edu.co)"
      ]
    },
    {
      "cell_type": "markdown",
      "id": "b4381f55",
      "metadata": {
        "id": "b4381f55"
      },
      "source": [
        "Datos del Estudiante:\n",
        "- Nombre: diego alejandro uribe ochoa\n",
        "- ID:00526333\n",
        "- email:diego.uribeo@upb.edu.co"
      ]
    },
    {
      "cell_type": "markdown",
      "id": "433f35a0",
      "metadata": {
        "id": "433f35a0"
      },
      "source": [
        "Resuelva los siguientes ejercicios utilizando estructuras cíclicas y condicionales."
      ]
    },
    {
      "cell_type": "markdown",
      "id": "aead929b",
      "metadata": {
        "id": "aead929b"
      },
      "source": [
        "### Problema 1: Suma de Elementos (30xp)\n",
        "\n",
        "Indique cuál de los dos números ingresados por el usuario tiene una suma de dígitos mayor y la diferencia de estas sumas. Si las sumas de los dígitos son iguales, infórmelo al usuario. \n",
        "\n",
        "**Ejemplo:**\n",
        "\n",
        "```\n",
        "Ingrese el primer número: 23672646\n",
        "Ingrese el segundo número: 12653686\n",
        "La suma de los elementos de la lista 2 es mayor que la suma de los elementos de la lista 1 en 1 unidades.\n",
        "```\n",
        "\n",
        "**Recomendación:** pruebe su algoritmo con listas de prueba:\n",
        "- `lst_1`: lista que representa el primer número. Por ejemplo: dígitos del número de su documento de identidad\n",
        "- `lst_2`: lista que representa el segundo número. Por ejemplo: dígitos del número de su id\n",
        "\n",
        "**Nota:** para leer un número ingresado por el usuario y convertirlo en lista puede utilizar las siguientes instrucciones:\n",
        "\n",
        "```python\n",
        "num = input('Número: ')\n",
        "lst = [int(x) for x in num]\n",
        "```"
      ]
    },
    {
      "cell_type": "code",
      "execution_count": 5,
      "id": "46b47e9b",
      "metadata": {
        "id": "46b47e9b",
        "outputId": "09ebcfae-2d05-45b5-a575-d92a587fb87f",
        "colab": {
          "base_uri": "https://localhost:8080/"
        }
      },
      "outputs": [
        {
          "output_type": "stream",
          "name": "stdout",
          "text": [
            "Número 1: 2345546546\n",
            "Numero 2: 34645767568\n",
            "La suma de los elementos de la lista 2 es mayor que la suma de los elementos de la lista 1 en 17 unidades.\n"
          ]
        }
      ],
      "source": [
        "# Ingrese los 2 números y se pondrán sus valores en 2 listas\n",
        "\n",
        "num_1 = input('Número 1: ')\n",
        "\n",
        "lst_1 = [int(n) for n in num_1]\n",
        "\n",
        "num_2 = input('Numero 2: ')\n",
        "\n",
        "lst_2 = [int(n) for n in num_2]\n",
        "\n",
        "suma_1 = 0\n",
        "\n",
        "suma_2 = 0\n",
        "\n",
        "# Se suman los valores de la lista 1\n",
        "\n",
        "for i in lst_1:\n",
        "\n",
        "  suma_1 = suma_1 + i\n",
        "\n",
        "# Se suman los valores de la lista 2\n",
        "\n",
        "for i in lst_2:\n",
        "\n",
        "  suma_2 = suma_2 + i\n",
        "\n",
        "# Verificamos cuál suma de los valores de las listas es mayor y hallamos la diferencia entre la suma de ambas listas\n",
        "\n",
        "if suma_1 > suma_2:\n",
        "\n",
        "  diferencia = suma_1 - suma_2\n",
        "\n",
        "  print(\"La suma de los elementos de la lista 1 es mayor que la suma de los elementos de la lista 2 en \" + str(diferencia) + \" unidades.\")\n",
        "\n",
        "elif suma_2 > suma_1:\n",
        "\n",
        "  diferencia = suma_2 - suma_1\n",
        "\n",
        "  print(\"La suma de los elementos de la lista 2 es mayor que la suma de los elementos de la lista 1 en \" + str(diferencia) + \" unidades.\")\n",
        "\n",
        "else:\n",
        "\n",
        "  diferencia = 0\n",
        "\n",
        "  print(\"La suma de los elementos de la lista 1 es igual que la suma de los elementos de la lista 2.\")"
      ]
    },
    {
      "cell_type": "markdown",
      "id": "986a4945",
      "metadata": {
        "id": "986a4945"
      },
      "source": [
        "### Problema 2: Suma Objetivo (50xp)\n",
        "\n",
        "Indique si la suma de los dígitos de un número de verificación alcanza un valor objetivo. Si obtiene el valor objetivo antes de finalizar el recorrido por todos los dígitos del número, indique la iteración en la que se obtuvo este valor. Tenga en cuenta que tanto el valor objetivo como el número de verificación son ingresados por el usuario. En cualquiera de los casos, muestre el resultado obtenido de la suma de los dígitos.\n",
        "\n",
        "**Ejemplo:**\n",
        "```\n",
        "Ingrese número de suma objetivo: 15\n",
        "Ingrese número para validar suma de dígitos: 1234562\n",
        "Suma obtenida en iteración 5 de 7\n",
        "Resultado obtenido: 15\n",
        "Alcanzó el valor objetivo.\n",
        "```\n",
        "\n",
        "**Recomendación:** pruebe su algoritmo con números y listas de prueba:\n",
        "- `n_obj`: valor objetivo\n",
        "- `lst`: lista que representa el número de verificación. Por ejemplo: dígitos del número de su id\n",
        "\n",
        "**Nota:** para leer un número ingresado por el usuario y convertirlo en lista puede utilizar las siguientes instrucciones:\n",
        "\n",
        "```python\n",
        "num = input('Número: ')\n",
        "lst = [int(x) for x in num]\n",
        "```"
      ]
    },
    {
      "cell_type": "code",
      "execution_count": 7,
      "id": "895f4399",
      "metadata": {
        "id": "895f4399",
        "outputId": "56cb5e94-e789-4d2e-8dd7-7f663df5c2a8",
        "colab": {
          "base_uri": "https://localhost:8080/"
        }
      },
      "outputs": [
        {
          "output_type": "stream",
          "name": "stdout",
          "text": [
            "Ingrese número de suma objetivo: 234556476\n",
            "Ingrese número para validar suma de dígitos: 12\n",
            "La suma de los dígitos del número es  3 .\n"
          ]
        }
      ],
      "source": [
        "# INGRESAR NÚMERO DE VERIFICACION Y DE SUMA OBJETIVO\n",
        "\n",
        "n_obj = int(input(\"Ingrese número de suma objetivo: \"))\n",
        "\n",
        "num = input(\"Ingrese número para validar suma de dígitos: \")\n",
        "\n",
        "# CREAR LISTA PARA LOS DÍGITOS DEL NÚMERO A VALIDAR\n",
        "\n",
        "lst = [int(n) for n in num]\n",
        "\n",
        "suma = 0\n",
        "\n",
        "# BUSCAR EL VALOR OBJETIVO DE LA SUMA\n",
        "\n",
        "for i in range(len(lst)):\n",
        "\n",
        "    suma += lst[i]\n",
        "    \n",
        "    if suma >= n_obj or suma == n_obj:\n",
        "      \n",
        "      # HALLAMOS EL VALOR DE ITERACIÓN\n",
        "\n",
        "      print(\"El valor objetivo se alcanzó en iteración de: \", i + 1, \"de \", max(range(len(lst))) + 1, \".\")\n",
        "      break\n",
        "\n",
        "# IMPRIMIMOS LA SUMA DE LOS DÍGITOS DEL NÚMERO A VERIFICAR\n",
        "\n",
        "print(\"La suma de los dígitos del número es \",suma,\".\")"
      ]
    },
    {
      "cell_type": "markdown",
      "id": "0b532b9b",
      "metadata": {
        "id": "0b532b9b"
      },
      "source": [
        "### Problema 3: Dígito Mayor (40xp)\n",
        "\n",
        "Indique el dígito de mayor valor y su posición en un número ingresado por el usuario. En caso de que el dígito mayor se repita, se debe retornar el índice del primero de ellos que fue encontrado. \n",
        "\n",
        "**Ejemplo:**\n",
        "\n",
        "```\n",
        "Ingrese número: 123753569054\n",
        "El dígito mayor de la lista es 9\n",
        "El número se encontró en la posición 8\n",
        "```\n",
        "\n",
        "**Recomendación:** pruebe su algoritmo con listas de prueba:\n",
        "- `lst`: lista que representa el número a evaluar. Por ejemplo: dígitos del número de su documento de identidad\n",
        "\n",
        "**Nota:** para leer un número ingresado por el usuario y convertirlo en lista puede utilizar las siguientes instrucciones:\n",
        "\n",
        "```python\n",
        "num = input('Número: ')\n",
        "lst = [int(x) for x in num]\n",
        "```"
      ]
    },
    {
      "cell_type": "code",
      "execution_count": 9,
      "id": "9159f388",
      "metadata": {
        "scrolled": true,
        "id": "9159f388",
        "outputId": "fc8b6470-db58-4941-984b-578e76c31547",
        "colab": {
          "base_uri": "https://localhost:8080/"
        }
      },
      "outputs": [
        {
          "output_type": "stream",
          "name": "stdout",
          "text": [
            "Ingresa un número: 34546675687\n",
            "El número mayor de la lista es:  8  y su posición es:  9 .\n"
          ]
        }
      ],
      "source": [
        "# Ingresa un número\n",
        "\n",
        "num = input(\"Ingresa un número: \")\n",
        "\n",
        "# Ubicamos en una lista los valores del número\n",
        "\n",
        "lst = [int(i) for i in num]\n",
        "\n",
        "# Imprimimos el número mayor de la lista y su posición\n",
        "\n",
        "print(\"El número mayor de la lista es: \", max(lst),  \" y su posición es: \", lst.index(max(lst)),\".\")"
      ]
    },
    {
      "cell_type": "markdown",
      "id": "03af9108",
      "metadata": {
        "id": "03af9108"
      },
      "source": [
        "### Problema 4: Valores que coinciden (50xp)\n",
        "\n",
        "Indique las posiciones (índices) en los cuales se encuentran los mismos valores de los dígitos en dos números ingresados por el usuario. El algoritmo debe verificar que los números tengan la misma longitud (igual número de dígitos). Si ninguno de los dígitos de los números coincide, también debe informarlo al usuario. \n",
        "\n",
        "**Ejemplo:**\n",
        "\n",
        "```\n",
        "Ingrese el primer número: 124646272\n",
        "Ingrese el segundo número: 354849136\n",
        "Los números tienen 2 dígitos(s) en común en la(s) posición(es): [2, 4]\n",
        "```\n",
        "\n",
        "**Recomendación:** pruebe su algoritmo con listas de prueba:\n",
        "- `lst_1`: lista que representa el primer número. \n",
        "- `lst_2`: lista que representa el segundo número. \n",
        "\n",
        "**Nota:** para leer un número ingresado por el usuario y convertirlo en lista puede utilizar las siguientes instrucciones:\n",
        "\n",
        "```python\n",
        "num = input('Número: ')\n",
        "lst = [int(x) for x in num]\n",
        "```"
      ]
    },
    {
      "cell_type": "code",
      "execution_count": 10,
      "id": "85469377",
      "metadata": {
        "id": "85469377",
        "outputId": "3cb37e3c-39ad-4dd7-e8fc-6a6ee51ff5e1",
        "colab": {
          "base_uri": "https://localhost:8080/"
        }
      },
      "outputs": [
        {
          "output_type": "stream",
          "name": "stdout",
          "text": [
            "Ingrese el primer número: 3454654\n",
            "Ingrese el segundo número: 3456679\n",
            "Los números tienen  4  dígito(s) en común en las posición(es):  [0, 1, 2, 4] .\n"
          ]
        }
      ],
      "source": [
        "# Ingresamos los dos números para identificar si tienen valores iguales en la misma posición\n",
        "\n",
        "num_1 = input(\"Ingrese el primer número: \")\n",
        "\n",
        "num_2 = input(\"Ingrese el segundo número: \")\n",
        "\n",
        "# Se coloca la condición de que si no hay igual cantidad de valores en la lista se comunique\n",
        "\n",
        "if len(num_1) != len(num_2):\n",
        "\n",
        "    print(\"Los números no tienen la misma cantidad de valores.\")\n",
        "\n",
        "# En caso de que si tenga misma cantidad de valores se evalua si tienen dígitos en común\n",
        "\n",
        "else:\n",
        "\n",
        "    same_values = []\n",
        "\n",
        "# Se disponen en la lista 1 sus valores con respecto a la lista 2\n",
        "\n",
        "    for i in range(len(num_1)):\n",
        "\n",
        "        if num_1[i] == num_2[i]:\n",
        "\n",
        "            same_values.append(i)\n",
        "\n",
        "# Verificamos que si tienen valores en común y se imprime en caso de que si tengan se imprimen cuantos y en qué posiciones\n",
        "\n",
        "    if len(same_values) > 0:\n",
        "      \n",
        "      dig_common = len(same_values)\n",
        "      \n",
        "      print(\"Los números tienen \", dig_common, \" dígito(s) en común en las posición(es): \", same_values, \".\")\n",
        "\n",
        "# Se imprime si no tienen dígitos en común\n",
        "\n",
        "    else:\n",
        "\n",
        "        print(\"Los números carecen de dígitos en común.\")"
      ]
    },
    {
      "cell_type": "code",
      "execution_count": null,
      "id": "fdf35177",
      "metadata": {
        "id": "fdf35177"
      },
      "outputs": [],
      "source": []
    }
  ],
  "metadata": {
    "kernelspec": {
      "display_name": "Python 3 (ipykernel)",
      "language": "python",
      "name": "python3"
    },
    "language_info": {
      "codemirror_mode": {
        "name": "ipython",
        "version": 3
      },
      "file_extension": ".py",
      "mimetype": "text/x-python",
      "name": "python",
      "nbconvert_exporter": "python",
      "pygments_lexer": "ipython3",
      "version": "3.10.6"
    },
    "colab": {
      "provenance": [],
      "include_colab_link": true
    }
  },
  "nbformat": 4,
  "nbformat_minor": 5
}